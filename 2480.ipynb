{
 "cells": [
  {
   "cell_type": "code",
   "execution_count": 27,
   "id": "d343985b",
   "metadata": {},
   "outputs": [
    {
     "name": "stdout",
     "output_type": "stream",
     "text": [
      "6 2 5\n",
      "600\n"
     ]
    }
   ],
   "source": [
    "numbers = list(map(int, input().split()))\n",
    "\n",
    "if (numbers[0] == numbers[1] and numbers[1] == numbers[2]):\n",
    "    result = 10000 + numbers[0]*1000\n",
    "elif (numbers[0] == numbers[1]):\n",
    "    result = 1000 + numbers[0]*100\n",
    "elif (numbers[0] == numbers[2]):\n",
    "    result = 1000 + numbers[0]*100\n",
    "elif (numbers[1] == numbers[2]):\n",
    "    result = 1000 + numbers[1]*100\n",
    "else :\n",
    "    result = max(numbers) * 100\n",
    "    \n",
    "print(result)"
   ]
  }
 ],
 "metadata": {
  "kernelspec": {
   "display_name": "Python 3 (ipykernel)",
   "language": "python",
   "name": "python3"
  },
  "language_info": {
   "codemirror_mode": {
    "name": "ipython",
    "version": 3
   },
   "file_extension": ".py",
   "mimetype": "text/x-python",
   "name": "python",
   "nbconvert_exporter": "python",
   "pygments_lexer": "ipython3",
   "version": "3.9.7"
  }
 },
 "nbformat": 4,
 "nbformat_minor": 5
}
