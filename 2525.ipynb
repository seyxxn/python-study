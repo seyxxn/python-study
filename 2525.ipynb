{
 "cells": [
  {
   "cell_type": "code",
   "execution_count": 15,
   "id": "bd9c9818",
   "metadata": {},
   "outputs": [
    {
     "name": "stdout",
     "output_type": "stream",
     "text": [
      "23 48\n",
      "25\n",
      "0 13\n"
     ]
    }
   ],
   "source": [
    "nowHour, nowMin = input().split(\" \")\n",
    "needTime = int(input())\n",
    "needTimeHour = needTime // 60\n",
    "needTimeMin = needTime % 60\n",
    "\n",
    "finishHour = int(nowHour) + int(needTimeHour)\n",
    "finishMin = int(nowMin) + int(needTimeMin)\n",
    "\n",
    "if (finishMin >= 60):\n",
    "    finishHour = finishHour + (finishMin // 60)\n",
    "    finishMin = finishMin % 60\n",
    "\n",
    "if (finishHour > 23):\n",
    "    finishHour = finishHour-24\n",
    "    \n",
    "print(finishHour, finishMin)\n",
    "    "
   ]
  }
 ],
 "metadata": {
  "kernelspec": {
   "display_name": "Python 3 (ipykernel)",
   "language": "python",
   "name": "python3"
  },
  "language_info": {
   "codemirror_mode": {
    "name": "ipython",
    "version": 3
   },
   "file_extension": ".py",
   "mimetype": "text/x-python",
   "name": "python",
   "nbconvert_exporter": "python",
   "pygments_lexer": "ipython3",
   "version": "3.9.7"
  }
 },
 "nbformat": 4,
 "nbformat_minor": 5
}
